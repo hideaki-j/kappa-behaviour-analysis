{
 "cells": [
  {
   "cell_type": "code",
   "execution_count": 1,
   "metadata": {},
   "outputs": [],
   "source": [
    "from sklearn.metrics import cohen_kappa_score\n",
    "import numpy as np\n",
    "import pandas as pd\n",
    "import matplotlib.pyplot as plt"
   ]
  },
  {
   "cell_type": "code",
   "execution_count": null,
   "metadata": {},
   "outputs": [],
   "source": []
  },
  {
   "cell_type": "code",
   "execution_count": 2,
   "metadata": {},
   "outputs": [],
   "source": [
    "num_labels=10000\n",
    "std_dev=1.0\n",
    "steps=20\n",
    "np.random.seed(42)"
   ]
  },
  {
   "cell_type": "code",
   "execution_count": 3,
   "metadata": {},
   "outputs": [
    {
     "name": "stdout",
     "output_type": "stream",
     "text": [
      "Generated 10000 gold labels\n",
      "Gold labels: [1, 2, 3, 4, 5, 1, 2, 3, 4, 5]\n"
     ]
    }
   ],
   "source": [
    "# Generate gold labels\n",
    "\n",
    "def generate_gold_labels(num_labels):\n",
    "    \"\"\"Generates random gold labels uniformly distributed between 1 and 5.\"\"\"\n",
    "    # gold_labels = np.random.randint(1, 6, num_labels)\n",
    "    gold_labels = [1,2,3,4,5]*(int(num_labels/5))\n",
    "    print(f'Generated {len(gold_labels)} gold labels')\n",
    "    return gold_labels\n",
    "\n",
    "# Generate gold labels\n",
    "gold_labels = generate_gold_labels(num_labels)\n",
    "print(\"Gold labels:\", gold_labels[:10])"
   ]
  },
  {
   "cell_type": "code",
   "execution_count": 4,
   "metadata": {},
   "outputs": [
    {
     "name": "stdout",
     "output_type": "stream",
     "text": [
      "Annotator A labels: [1 2 4 5 5 1 4 4 4 5]\n",
      "Annotator B labels: [1 2 2 4 5 1 3 2 3 5]\n"
     ]
    }
   ],
   "source": [
    "# Generate annotator labels\n",
    "\n",
    "def generate_annotator_labels(gold_labels, num_labels, std_dev):\n",
    "    \"\"\"Generates annotator labels around gold labels with normal distribution noise.\"\"\"\n",
    "    annotator_labels = np.clip(np.round(gold_labels + np.random.normal(0, std_dev, num_labels)), 1, 5).astype(int)\n",
    "    return annotator_labels\n",
    "\n",
    "# Annotator A\n",
    "annotator_a_labels = generate_annotator_labels(gold_labels, num_labels, std_dev)\n",
    "print(\"Annotator A labels:\", annotator_a_labels[:10])\n",
    "\n",
    "# Annotator B\n",
    "annotator_b_labels = generate_annotator_labels(gold_labels, num_labels, std_dev)\n",
    "print(\"Annotator B labels:\", annotator_b_labels[:10])"
   ]
  },
  {
   "cell_type": "code",
   "execution_count": 5,
   "metadata": {},
   "outputs": [
    {
     "data": {
      "text/html": [
       "<div>\n",
       "<style scoped>\n",
       "    .dataframe tbody tr th:only-of-type {\n",
       "        vertical-align: middle;\n",
       "    }\n",
       "\n",
       "    .dataframe tbody tr th {\n",
       "        vertical-align: top;\n",
       "    }\n",
       "\n",
       "    .dataframe thead th {\n",
       "        text-align: right;\n",
       "    }\n",
       "</style>\n",
       "<table border=\"1\" class=\"dataframe\">\n",
       "  <thead>\n",
       "    <tr style=\"text-align: right;\">\n",
       "      <th></th>\n",
       "      <th>gold</th>\n",
       "      <th>annotator_a</th>\n",
       "      <th>annotator_b</th>\n",
       "    </tr>\n",
       "  </thead>\n",
       "  <tbody>\n",
       "    <tr>\n",
       "      <th>0</th>\n",
       "      <td>1</td>\n",
       "      <td>1</td>\n",
       "      <td>1</td>\n",
       "    </tr>\n",
       "    <tr>\n",
       "      <th>1</th>\n",
       "      <td>2</td>\n",
       "      <td>2</td>\n",
       "      <td>2</td>\n",
       "    </tr>\n",
       "    <tr>\n",
       "      <th>2</th>\n",
       "      <td>3</td>\n",
       "      <td>4</td>\n",
       "      <td>2</td>\n",
       "    </tr>\n",
       "    <tr>\n",
       "      <th>3</th>\n",
       "      <td>4</td>\n",
       "      <td>5</td>\n",
       "      <td>4</td>\n",
       "    </tr>\n",
       "    <tr>\n",
       "      <th>4</th>\n",
       "      <td>5</td>\n",
       "      <td>5</td>\n",
       "      <td>5</td>\n",
       "    </tr>\n",
       "    <tr>\n",
       "      <th>...</th>\n",
       "      <td>...</td>\n",
       "      <td>...</td>\n",
       "      <td>...</td>\n",
       "    </tr>\n",
       "    <tr>\n",
       "      <th>9995</th>\n",
       "      <td>1</td>\n",
       "      <td>2</td>\n",
       "      <td>1</td>\n",
       "    </tr>\n",
       "    <tr>\n",
       "      <th>9996</th>\n",
       "      <td>2</td>\n",
       "      <td>1</td>\n",
       "      <td>3</td>\n",
       "    </tr>\n",
       "    <tr>\n",
       "      <th>9997</th>\n",
       "      <td>3</td>\n",
       "      <td>2</td>\n",
       "      <td>3</td>\n",
       "    </tr>\n",
       "    <tr>\n",
       "      <th>9998</th>\n",
       "      <td>4</td>\n",
       "      <td>4</td>\n",
       "      <td>5</td>\n",
       "    </tr>\n",
       "    <tr>\n",
       "      <th>9999</th>\n",
       "      <td>5</td>\n",
       "      <td>5</td>\n",
       "      <td>3</td>\n",
       "    </tr>\n",
       "  </tbody>\n",
       "</table>\n",
       "<p>10000 rows × 3 columns</p>\n",
       "</div>"
      ],
      "text/plain": [
       "      gold  annotator_a  annotator_b\n",
       "0        1            1            1\n",
       "1        2            2            2\n",
       "2        3            4            2\n",
       "3        4            5            4\n",
       "4        5            5            5\n",
       "...    ...          ...          ...\n",
       "9995     1            2            1\n",
       "9996     2            1            3\n",
       "9997     3            2            3\n",
       "9998     4            4            5\n",
       "9999     5            5            3\n",
       "\n",
       "[10000 rows x 3 columns]"
      ]
     },
     "execution_count": 5,
     "metadata": {},
     "output_type": "execute_result"
    }
   ],
   "source": [
    "data = pd.DataFrame({\n",
    "    'gold': gold_labels,\n",
    "    'annotator_a': annotator_a_labels,\n",
    "    'annotator_b': annotator_b_labels\n",
    "})\n",
    "\n",
    "data"
   ]
  },
  {
   "cell_type": "code",
   "execution_count": 6,
   "metadata": {},
   "outputs": [
    {
     "name": "stdout",
     "output_type": "stream",
     "text": [
      "0.2340221850343448\n"
     ]
    }
   ],
   "source": [
    "# Kappa\n",
    "kappa = cohen_kappa_score(annotator_a_labels, annotator_b_labels)\n",
    "print(kappa)"
   ]
  },
  {
   "cell_type": "code",
   "execution_count": 7,
   "metadata": {},
   "outputs": [],
   "source": [
    "def sample_skewed_data(gold_labels, annotator_a_labels, annotator_b_labels, label_to_num_sample):\n",
    "    \"\"\"Samples data to create a skewed distribution based on label_to_num_sample dictionary.\"\"\"\n",
    "    data = pd.DataFrame({\n",
    "        'gold': gold_labels,\n",
    "        'annotator_a': annotator_a_labels,\n",
    "        'annotator_b': annotator_b_labels\n",
    "    })\n",
    "    \n",
    "    skewed_data = pd.DataFrame()\n",
    "    for label, count in label_to_num_sample.items():\n",
    "        sampled = data[data['gold'] == label].sample(n=count)\n",
    "        skewed_data = pd.concat([skewed_data, sampled])\n",
    "    \n",
    "    return skewed_data"
   ]
  },
  {
   "cell_type": "code",
   "execution_count": null,
   "metadata": {},
   "outputs": [],
   "source": [
    "\n",
    "\n",
    "def get_kapp_values(label_order=[1,2,3,4,5]):\n",
    "    kappa_values = []\n",
    "    assert set(label_order) == set([1,2,3,4,5]), \"label_order must contain all 5 labels\"\n",
    "    for step in range(0, steps):\n",
    "        label_to_ratio = {label_order[i]: (1+0.1*i)**step for i in range(5)}\n",
    "        total_ratio = sum(label_to_ratio.values())\n",
    "\n",
    "        label_to_proportion = {label: ratio / total_ratio for label, ratio in label_to_ratio.items()}\n",
    "        max_proportion = max(label_to_proportion.values())\n",
    "        num_labels_for_each_label = num_labels/5\n",
    "        label_to_num_sample = {}\n",
    "        for label, ratio in label_to_ratio.items():\n",
    "            label_to_num_sample[label] = int(num_labels_for_each_label * label_to_proportion[label] / max_proportion)\n",
    "\n",
    "        skewed_sampled_data = sample_skewed_data(gold_labels, annotator_a_labels, annotator_b_labels, label_to_num_sample)\n",
    "        \n",
    "        # Calculate Cohen's kappa for the current distribution\n",
    "        cohen_kappa = cohen_kappa_score(skewed_sampled_data['annotator_a'], skewed_sampled_data['annotator_b'])\n",
    "        kappa_values.append(cohen_kappa)\n",
    "\n",
    "        print(f'Step: {step:02d},\\tNumber of samples for each label: {label_to_num_sample},\\tKappa: {cohen_kappa}')\n",
    "\n",
    "    return kappa_values\n",
    "\n",
    "all_kappa_values = []\n",
    "# try all combinations of label orders\n",
    "import itertools\n",
    "for label_order in itertools.permutations([1,2,3,4,5]):\n",
    "    kappa_values = get_kapp_values(list(label_order))\n",
    "    all_kappa_values.append(kappa_values)\n",
    "\n",
    "# calculate average kappa values\n",
    "average_kappa_values = np.mean(all_kappa_values, axis=0)"
   ]
  },
  {
   "cell_type": "code",
   "execution_count": 9,
   "metadata": {},
   "outputs": [],
   "source": [
    "\n",
    "def plot_kappa(kappa_values, steps):\n",
    "    \"\"\"Plots the Cohen's kappa values across the transition from uniform to skewed distribution.\"\"\"\n",
    "    plt.figure(figsize=(10, 6))\n",
    "    plt.plot(range(1, steps + 1), kappa_values, marker='o', linestyle='-', color='blue')\n",
    "    plt.title(\"Cohen's Kappa Across Transition from Uniform to Skewed Distribution\")\n",
    "    plt.xlabel(\"Step (Transition to Skewed Distribution)\")\n",
    "    plt.ylabel(\"Cohen's Kappa\")\n",
    "    plt.grid(True)\n",
    "    plt.show()\n",
    "\n",
    "\n",
    "# plot_kappa(kappa_values, steps)"
   ]
  },
  {
   "cell_type": "code",
   "execution_count": 10,
   "metadata": {},
   "outputs": [
    {
     "data": {
      "image/png": "[encoded data removed]",
      "text/plain": [
       "<Figure size 1000x600 with 1 Axes>"
      ]
     },
     "metadata": {},
     "output_type": "display_data"
    }
   ],
   "source": [
    "plot_kappa(average_kappa_values, steps)"
   ]
  },
  {
   "cell_type": "code",
   "execution_count": null,
   "metadata": {},
   "outputs": [],
   "source": []
  },
  {
   "cell_type": "code",
   "execution_count": null,
   "metadata": {},
   "outputs": [],
   "source": []
  }
 ],
 "metadata": {
  "kernelspec": {
   "display_name": "240827_code_interpreter",
   "language": "python",
   "name": "python3"
  },
  "language_info": {
   "codemirror_mode": {
    "name": "ipython",
    "version": 3
   },
   "file_extension": ".py",
   "mimetype": "text/x-python",
   "name": "python",
   "nbconvert_exporter": "python",
   "pygments_lexer": "ipython3",
   "version": "3.10.14"
  }
 },
 "nbformat": 4,
 "nbformat_minor": 2
}
